{
 "cells": [
  {
   "cell_type": "code",
   "execution_count": 1,
   "metadata": {
    "collapsed": true
   },
   "outputs": [],
   "source": [
    "import numpy as np\n",
    "import pandas as pd\n",
    "from glob import glob"
   ]
  },
  {
   "cell_type": "code",
   "execution_count": 2,
   "metadata": {
    "collapsed": true
   },
   "outputs": [],
   "source": [
    "path = './aclImdb'\n",
    "pos_files = glob(path + '/train/pos/*.txt')\n",
    "neg_files = glob(path + '/train/neg/*.txt')"
   ]
  },
  {
   "cell_type": "code",
   "execution_count": 3,
   "metadata": {
    "collapsed": true
   },
   "outputs": [],
   "source": [
    "pos_files_test = glob(path + '/test/pos/*.txt')\n",
    "neg_files_test = glob(path + '/test/neg/*.txt')"
   ]
  },
  {
   "cell_type": "code",
   "execution_count": 4,
   "metadata": {
    "collapsed": true
   },
   "outputs": [],
   "source": [
    "pos_list = []\n",
    "for file in pos_files:\n",
    "    with open(file) as f:\n",
    "        pos_list.append(pd.DataFrame({'comment':f.readlines(),'is_positive':1}))\n",
    "pos_df = pd.concat(pos_list)"
   ]
  },
  {
   "cell_type": "code",
   "execution_count": 5,
   "metadata": {
    "collapsed": true
   },
   "outputs": [],
   "source": [
    "neg_list = []\n",
    "for file in neg_files:\n",
    "    with open(file) as f:\n",
    "        neg_list.append(pd.DataFrame({'comment':f.readlines(),'is_positive':0}))\n",
    "neg_df = pd.concat(neg_list)"
   ]
  },
  {
   "cell_type": "code",
   "execution_count": 6,
   "metadata": {
    "collapsed": true
   },
   "outputs": [],
   "source": [
    "pos_list_test = []\n",
    "for file in pos_files_test:\n",
    "    with open(file) as f:\n",
    "        pos_list_test.append(pd.DataFrame({'comment':f.readlines(),'is_positive':1}))\n",
    "pos_df_test = pd.concat(pos_list_test)"
   ]
  },
  {
   "cell_type": "code",
   "execution_count": 7,
   "metadata": {
    "collapsed": true
   },
   "outputs": [],
   "source": [
    "neg_list_test = []\n",
    "for file in neg_files_test:\n",
    "    with open(file) as f:\n",
    "        neg_list_test.append(pd.DataFrame({'comment':f.readlines(),'is_positive':0}))\n",
    "neg_df_test = pd.concat(neg_list_test)"
   ]
  },
  {
   "cell_type": "code",
   "execution_count": 8,
   "metadata": {
    "scrolled": true
   },
   "outputs": [
    {
     "data": {
      "text/html": [
       "<div>\n",
       "<style>\n",
       "    .dataframe thead tr:only-child th {\n",
       "        text-align: right;\n",
       "    }\n",
       "\n",
       "    .dataframe thead th {\n",
       "        text-align: left;\n",
       "    }\n",
       "\n",
       "    .dataframe tbody tr th {\n",
       "        vertical-align: top;\n",
       "    }\n",
       "</style>\n",
       "<table border=\"1\" class=\"dataframe\">\n",
       "  <thead>\n",
       "    <tr style=\"text-align: right;\">\n",
       "      <th></th>\n",
       "      <th>comment</th>\n",
       "      <th>is_positive</th>\n",
       "    </tr>\n",
       "  </thead>\n",
       "  <tbody>\n",
       "    <tr>\n",
       "      <th>0</th>\n",
       "      <td>Bromwell High is a cartoon comedy. It ran at t...</td>\n",
       "      <td>1</td>\n",
       "    </tr>\n",
       "    <tr>\n",
       "      <th>1</th>\n",
       "      <td>Homelessness (or Houselessness as George Carli...</td>\n",
       "      <td>1</td>\n",
       "    </tr>\n",
       "    <tr>\n",
       "      <th>2</th>\n",
       "      <td>Brilliant over-acting by Lesley Ann Warren. Be...</td>\n",
       "      <td>1</td>\n",
       "    </tr>\n",
       "    <tr>\n",
       "      <th>3</th>\n",
       "      <td>This is easily the most underrated film inn th...</td>\n",
       "      <td>1</td>\n",
       "    </tr>\n",
       "    <tr>\n",
       "      <th>4</th>\n",
       "      <td>This is not the typical Mel Brooks film. It wa...</td>\n",
       "      <td>1</td>\n",
       "    </tr>\n",
       "  </tbody>\n",
       "</table>\n",
       "</div>"
      ],
      "text/plain": [
       "                                             comment  is_positive\n",
       "0  Bromwell High is a cartoon comedy. It ran at t...            1\n",
       "1  Homelessness (or Houselessness as George Carli...            1\n",
       "2  Brilliant over-acting by Lesley Ann Warren. Be...            1\n",
       "3  This is easily the most underrated film inn th...            1\n",
       "4  This is not the typical Mel Brooks film. It wa...            1"
      ]
     },
     "execution_count": 8,
     "metadata": {},
     "output_type": "execute_result"
    }
   ],
   "source": [
    "data_df = pd.concat([pos_df,neg_df])\n",
    "data_df = data_df.reset_index().drop('index',axis=1)\n",
    "data_df.head()"
   ]
  },
  {
   "cell_type": "code",
   "execution_count": 9,
   "metadata": {
    "collapsed": true
   },
   "outputs": [],
   "source": [
    "data_X = np.array([data_df['comment'][i] for i in range(25000)])\n",
    "data_y = np.array(data_df['is_positive'])"
   ]
  },
  {
   "cell_type": "code",
   "execution_count": 10,
   "metadata": {},
   "outputs": [
    {
     "data": {
      "text/html": [
       "<div>\n",
       "<style>\n",
       "    .dataframe thead tr:only-child th {\n",
       "        text-align: right;\n",
       "    }\n",
       "\n",
       "    .dataframe thead th {\n",
       "        text-align: left;\n",
       "    }\n",
       "\n",
       "    .dataframe tbody tr th {\n",
       "        vertical-align: top;\n",
       "    }\n",
       "</style>\n",
       "<table border=\"1\" class=\"dataframe\">\n",
       "  <thead>\n",
       "    <tr style=\"text-align: right;\">\n",
       "      <th></th>\n",
       "      <th>comment</th>\n",
       "      <th>is_positive</th>\n",
       "    </tr>\n",
       "  </thead>\n",
       "  <tbody>\n",
       "    <tr>\n",
       "      <th>0</th>\n",
       "      <td>I went and saw this movie last night after bei...</td>\n",
       "      <td>1</td>\n",
       "    </tr>\n",
       "    <tr>\n",
       "      <th>1</th>\n",
       "      <td>Actor turned director Bill Paxton follows up h...</td>\n",
       "      <td>1</td>\n",
       "    </tr>\n",
       "    <tr>\n",
       "      <th>2</th>\n",
       "      <td>As a recreational golfer with some knowledge o...</td>\n",
       "      <td>1</td>\n",
       "    </tr>\n",
       "    <tr>\n",
       "      <th>3</th>\n",
       "      <td>I saw this film in a sneak preview, and it is ...</td>\n",
       "      <td>1</td>\n",
       "    </tr>\n",
       "    <tr>\n",
       "      <th>4</th>\n",
       "      <td>Bill Paxton has taken the true story of the 19...</td>\n",
       "      <td>1</td>\n",
       "    </tr>\n",
       "  </tbody>\n",
       "</table>\n",
       "</div>"
      ],
      "text/plain": [
       "                                             comment  is_positive\n",
       "0  I went and saw this movie last night after bei...            1\n",
       "1  Actor turned director Bill Paxton follows up h...            1\n",
       "2  As a recreational golfer with some knowledge o...            1\n",
       "3  I saw this film in a sneak preview, and it is ...            1\n",
       "4  Bill Paxton has taken the true story of the 19...            1"
      ]
     },
     "execution_count": 10,
     "metadata": {},
     "output_type": "execute_result"
    }
   ],
   "source": [
    "test_df = pd.concat([pos_df_test,neg_df_test])\n",
    "test_df = test_df.reset_index().drop('index',axis=1)\n",
    "test_df.head()"
   ]
  },
  {
   "cell_type": "code",
   "execution_count": 11,
   "metadata": {
    "collapsed": true
   },
   "outputs": [],
   "source": [
    "test_X = np.array([test_df['comment'][i] for i in range(25000)])\n",
    "test_y = np.array(test_df['is_positive'])"
   ]
  },
  {
   "cell_type": "markdown",
   "metadata": {},
   "source": [
    "## Tokenizing"
   ]
  },
  {
   "cell_type": "code",
   "execution_count": 61,
   "metadata": {
    "collapsed": true
   },
   "outputs": [],
   "source": [
    "#!python3 -m spacy download en"
   ]
  },
  {
   "cell_type": "code",
   "execution_count": 14,
   "metadata": {
    "collapsed": true
   },
   "outputs": [],
   "source": [
    "import spacy\n",
    "import string\n",
    "import re\n",
    "from spacy.symbols import ORTH"
   ]
  },
  {
   "cell_type": "code",
   "execution_count": 15,
   "metadata": {
    "collapsed": true
   },
   "outputs": [],
   "source": [
    "re_br = re.compile(r'<\\s*br\\s*/?>', re.IGNORECASE)\n",
    "def sub_br(x): return re_br.sub(\"\\n\", x)\n",
    "\n",
    "my_tok = spacy.load('en')\n",
    "def spacy_tok(x): return [tok.text for tok in my_tok.tokenizer(sub_br(x))]"
   ]
  },
  {
   "cell_type": "code",
   "execution_count": 16,
   "metadata": {},
   "outputs": [
    {
     "name": "stdout",
     "output_type": "stream",
     "text": [
      "[nltk_data] Downloading package stopwords to\n",
      "[nltk_data]     /Users/libingyi/nltk_data...\n",
      "[nltk_data]   Package stopwords is already up-to-date!\n"
     ]
    }
   ],
   "source": [
    "# get stop words\n",
    "import nltk\n",
    "nltk.download('stopwords')\n",
    "from nltk.corpus import stopwords\n",
    "stops = set(stopwords.words(\"english\"))"
   ]
  },
  {
   "cell_type": "code",
   "execution_count": 17,
   "metadata": {
    "collapsed": true
   },
   "outputs": [],
   "source": [
    "def get_non_stopwords(comment):\n",
    "    \"\"\"Returns a list of non-stopwords\"\"\"\n",
    "    return {x:1 for x in spacy_tok(str(comment).lower()) if x not in stops}.keys()"
   ]
  },
  {
   "cell_type": "code",
   "execution_count": 137,
   "metadata": {
    "collapsed": true
   },
   "outputs": [],
   "source": [
    "#train_df['comment'] = train_df['comment'].apply(get_non_stopwords)"
   ]
  },
  {
   "cell_type": "markdown",
   "metadata": {},
   "source": [
    "## Embedding"
   ]
  },
  {
   "cell_type": "code",
   "execution_count": 18,
   "metadata": {
    "collapsed": true
   },
   "outputs": [],
   "source": [
    "emb_path = \"./glove.6B/glove.6B.300d.txt\""
   ]
  },
  {
   "cell_type": "code",
   "execution_count": 19,
   "metadata": {
    "collapsed": true
   },
   "outputs": [],
   "source": [
    "def load_word_embedings(file=emb_path):\n",
    "    embeddings = {}\n",
    "    with open(file, 'r') as infile:\n",
    "        for line in infile:\n",
    "            values = line.split()\n",
    "            embeddings[values[0]] = np.asarray(values[1:], dtype='float32')\n",
    "    return embeddings"
   ]
  },
  {
   "cell_type": "code",
   "execution_count": 20,
   "metadata": {
    "collapsed": true
   },
   "outputs": [],
   "source": [
    "embeddings = load_word_embedings()"
   ]
  },
  {
   "cell_type": "code",
   "execution_count": 24,
   "metadata": {
    "collapsed": true
   },
   "outputs": [],
   "source": [
    "def sentence_features_v2(s, embeddings=embeddings, emb_size=300):\n",
    "    words = get_non_stopwords(s)\n",
    "    words = [w for w in words if w.isalpha() and w in embeddings]\n",
    "    if len(words) == 0:\n",
    "        return np.hstack([np.zeros(emb_size)])\n",
    "    M = np.array([embeddings[w] for w in words])\n",
    "    return M.mean(axis=0)"
   ]
  },
  {
   "cell_type": "code",
   "execution_count": 25,
   "metadata": {},
   "outputs": [
    {
     "data": {
      "text/html": [
       "<div>\n",
       "<style>\n",
       "    .dataframe thead tr:only-child th {\n",
       "        text-align: right;\n",
       "    }\n",
       "\n",
       "    .dataframe thead th {\n",
       "        text-align: left;\n",
       "    }\n",
       "\n",
       "    .dataframe tbody tr th {\n",
       "        vertical-align: top;\n",
       "    }\n",
       "</style>\n",
       "<table border=\"1\" class=\"dataframe\">\n",
       "  <thead>\n",
       "    <tr style=\"text-align: right;\">\n",
       "      <th></th>\n",
       "      <th>comment</th>\n",
       "      <th>is_positive</th>\n",
       "      <th>emb_comment</th>\n",
       "    </tr>\n",
       "  </thead>\n",
       "  <tbody>\n",
       "    <tr>\n",
       "      <th>0</th>\n",
       "      <td>Bromwell High is a cartoon comedy. It ran at t...</td>\n",
       "      <td>1</td>\n",
       "      <td>[-0.08725257, 0.055149537, 0.023050005, 0.0222...</td>\n",
       "    </tr>\n",
       "    <tr>\n",
       "      <th>1</th>\n",
       "      <td>Homelessness (or Houselessness as George Carli...</td>\n",
       "      <td>1</td>\n",
       "      <td>[-0.034318715, 0.029895563, 0.015404149, -0.04...</td>\n",
       "    </tr>\n",
       "    <tr>\n",
       "      <th>2</th>\n",
       "      <td>Brilliant over-acting by Lesley Ann Warren. Be...</td>\n",
       "      <td>1</td>\n",
       "      <td>[-0.06797261, 0.06756984, -0.0057137716, -0.00...</td>\n",
       "    </tr>\n",
       "    <tr>\n",
       "      <th>3</th>\n",
       "      <td>This is easily the most underrated film inn th...</td>\n",
       "      <td>1</td>\n",
       "      <td>[-0.021300474, 0.01583602, 0.03760675, -0.0153...</td>\n",
       "    </tr>\n",
       "    <tr>\n",
       "      <th>4</th>\n",
       "      <td>This is not the typical Mel Brooks film. It wa...</td>\n",
       "      <td>1</td>\n",
       "      <td>[-0.112299, 0.07660703, -0.006365776, -0.08404...</td>\n",
       "    </tr>\n",
       "  </tbody>\n",
       "</table>\n",
       "</div>"
      ],
      "text/plain": [
       "                                             comment  is_positive  \\\n",
       "0  Bromwell High is a cartoon comedy. It ran at t...            1   \n",
       "1  Homelessness (or Houselessness as George Carli...            1   \n",
       "2  Brilliant over-acting by Lesley Ann Warren. Be...            1   \n",
       "3  This is easily the most underrated film inn th...            1   \n",
       "4  This is not the typical Mel Brooks film. It wa...            1   \n",
       "\n",
       "                                         emb_comment  \n",
       "0  [-0.08725257, 0.055149537, 0.023050005, 0.0222...  \n",
       "1  [-0.034318715, 0.029895563, 0.015404149, -0.04...  \n",
       "2  [-0.06797261, 0.06756984, -0.0057137716, -0.00...  \n",
       "3  [-0.021300474, 0.01583602, 0.03760675, -0.0153...  \n",
       "4  [-0.112299, 0.07660703, -0.006365776, -0.08404...  "
      ]
     },
     "execution_count": 25,
     "metadata": {},
     "output_type": "execute_result"
    }
   ],
   "source": [
    "data_df['emb_comment'] = data_df['comment'].apply(sentence_features_v2)\n",
    "data_df.head()"
   ]
  },
  {
   "cell_type": "code",
   "execution_count": 26,
   "metadata": {
    "collapsed": true
   },
   "outputs": [],
   "source": [
    "test_df['emb_comment'] = test_df['comment'].apply(sentence_features_v2)"
   ]
  },
  {
   "cell_type": "code",
   "execution_count": 27,
   "metadata": {
    "collapsed": true
   },
   "outputs": [],
   "source": [
    "index = np.random.choice(np.arange(0,2), size = len(data_df), p=[0.2, 0.8])"
   ]
  },
  {
   "cell_type": "code",
   "execution_count": 28,
   "metadata": {
    "collapsed": true,
    "scrolled": true
   },
   "outputs": [],
   "source": [
    "data_X_E = np.array([data_df['emb_comment'][i] for i in range(25000)])\n",
    "test_X_E = np.array([test_df['emb_comment'][i] for i in range(25000)])\n",
    "\n",
    "data_y_E = data_df['is_positive'].values\n",
    "test_y_E = test_df['is_positive'].values"
   ]
  },
  {
   "cell_type": "markdown",
   "metadata": {},
   "source": [
    "## XGB to embedding data"
   ]
  },
  {
   "cell_type": "code",
   "execution_count": 29,
   "metadata": {
    "collapsed": true
   },
   "outputs": [],
   "source": [
    "import xgboost as xgb"
   ]
  },
  {
   "cell_type": "code",
   "execution_count": 30,
   "metadata": {},
   "outputs": [
    {
     "name": "stdout",
     "output_type": "stream",
     "text": [
      "[0]\ttrain-logloss:0.679883\tvalid-logloss:0.682\n",
      "Multiple eval metrics have been passed: 'valid-logloss' will be used for early stopping.\n",
      "\n",
      "Will train until valid-logloss hasn't improved in 50 rounds.\n",
      "[50]\ttrain-logloss:0.412888\tvalid-logloss:0.476838\n",
      "[100]\ttrain-logloss:0.328801\tvalid-logloss:0.427204\n",
      "[150]\ttrain-logloss:0.28219\tvalid-logloss:0.404869\n",
      "[200]\ttrain-logloss:0.252317\tvalid-logloss:0.39348\n",
      "[250]\ttrain-logloss:0.229782\tvalid-logloss:0.385967\n",
      "[300]\ttrain-logloss:0.211535\tvalid-logloss:0.380778\n",
      "[350]\ttrain-logloss:0.196332\tvalid-logloss:0.376527\n",
      "[399]\ttrain-logloss:0.183322\tvalid-logloss:0.374052\n"
     ]
    }
   ],
   "source": [
    "xgb_pars = {\"min_child_weight\": 50, \"eta\": 0.05, \"max_depth\": 8,\n",
    "            \"subsample\": 0.8, \"silent\" : 1, \"nthread\": 4,\n",
    "            \"eval_metric\": \"logloss\", \"objective\": \"binary:logistic\"}\n",
    "\n",
    "d_train = xgb.DMatrix(data_X_E[index==1], label=data_y_E[index==1])\n",
    "d_val = xgb.DMatrix(data_X_E[index==0], label=data_y_E[index==0])\n",
    "\n",
    "watchlist = [(d_train, 'train'), (d_val, 'valid')]\n",
    "\n",
    "bst = xgb.train(xgb_pars, d_train, 400, watchlist, early_stopping_rounds=50, verbose_eval=50)"
   ]
  },
  {
   "cell_type": "code",
   "execution_count": 40,
   "metadata": {},
   "outputs": [
    {
     "name": "stdout",
     "output_type": "stream",
     "text": [
      "training error: 0.06704\n"
     ]
    }
   ],
   "source": [
    "pred_train = np.rint(bst.predict(xgb.DMatrix(data_X_E)))\n",
    "print('training error:', np.mean(pred_train != data_y_E))"
   ]
  },
  {
   "cell_type": "code",
   "execution_count": 41,
   "metadata": {},
   "outputs": [
    {
     "name": "stdout",
     "output_type": "stream",
     "text": [
      "test error: 0.17168\n"
     ]
    }
   ],
   "source": [
    "pred_test = np.rint(bst.predict(xgb.DMatrix(test_X_E)))\n",
    "print('test error:', np.mean(pred_test != test_y_E))"
   ]
  },
  {
   "cell_type": "markdown",
   "metadata": {},
   "source": [
    "## XGB to one hot encoding data"
   ]
  },
  {
   "cell_type": "code",
   "execution_count": 44,
   "metadata": {
    "collapsed": true
   },
   "outputs": [],
   "source": [
    "from sklearn.feature_extraction.text import CountVectorizer"
   ]
  },
  {
   "cell_type": "code",
   "execution_count": 45,
   "metadata": {
    "collapsed": true
   },
   "outputs": [],
   "source": [
    "count = CountVectorizer()\n",
    "data_X_bag = count.fit_transform([data_df['comment'][i] for i in range(len(data_df))])\n",
    "test_X_bag = count.transform([test_df['comment'][i] for i in range(len(test_df))])\n",
    "\n",
    "data_y_bag = np.array(data_df['is_positive'])\n",
    "test_y_bag = np.array(test_df['is_positive'])"
   ]
  },
  {
   "cell_type": "code",
   "execution_count": 77,
   "metadata": {},
   "outputs": [
    {
     "name": "stdout",
     "output_type": "stream",
     "text": [
      "[0]\ttrain-logloss:0.681197\tvalid-logloss:0.68145\n",
      "Multiple eval metrics have been passed: 'valid-logloss' will be used for early stopping.\n",
      "\n",
      "Will train until valid-logloss hasn't improved in 50 rounds.\n",
      "[50]\ttrain-logloss:0.481588\tvalid-logloss:0.486601\n",
      "[100]\ttrain-logloss:0.415469\tvalid-logloss:0.428351\n",
      "[150]\ttrain-logloss:0.377008\tvalid-logloss:0.39646\n",
      "[200]\ttrain-logloss:0.34992\tvalid-logloss:0.375758\n",
      "[250]\ttrain-logloss:0.330063\tvalid-logloss:0.362617\n",
      "[300]\ttrain-logloss:0.314415\tvalid-logloss:0.353027\n",
      "[350]\ttrain-logloss:0.300773\tvalid-logloss:0.345136\n",
      "[399]\ttrain-logloss:0.289447\tvalid-logloss:0.338873\n"
     ]
    }
   ],
   "source": [
    "xgb_pars = {\"min_child_weight\": 50, \"eta\": 0.05, \"max_depth\": 8,\n",
    "            \"subsample\": 0.8, \"silent\" : 1, \"nthread\": 4,\n",
    "            \"eval_metric\": \"logloss\", \"objective\": \"binary:logistic\"}\n",
    "\n",
    "d_train = xgb.DMatrix(data_X_bag[index==1], label=data_y_bag[index==1])\n",
    "d_val = xgb.DMatrix(data_X_bag[index==0], label=data_y_bag[index==0])\n",
    "\n",
    "watchlist = [(d_train, 'train'), (d_val, 'valid')]\n",
    "\n",
    "bst = xgb.train(xgb_pars, d_train, 400, watchlist, early_stopping_rounds=50, verbose_eval=50)"
   ]
  },
  {
   "cell_type": "code",
   "execution_count": 78,
   "metadata": {},
   "outputs": [
    {
     "name": "stdout",
     "output_type": "stream",
     "text": [
      "training error: 0.11364\n"
     ]
    }
   ],
   "source": [
    "pred_train = np.rint(bst.predict(xgb.DMatrix(data_X_bag)))\n",
    "print('training error:', np.mean(pred_train != data_y_bag))"
   ]
  },
  {
   "cell_type": "code",
   "execution_count": 79,
   "metadata": {},
   "outputs": [
    {
     "name": "stdout",
     "output_type": "stream",
     "text": [
      "test error: 0.14976\n"
     ]
    }
   ],
   "source": [
    "pred_test = np.rint(bst.predict(xgb.DMatrix(test_X_bag)))\n",
    "print('test error:', np.mean(pred_test != test_y_bag))"
   ]
  }
 ],
 "metadata": {
  "kernelspec": {
   "display_name": "Python 3",
   "language": "python",
   "name": "python3"
  },
  "language_info": {
   "codemirror_mode": {
    "name": "ipython",
    "version": 3
   },
   "file_extension": ".py",
   "mimetype": "text/x-python",
   "name": "python",
   "nbconvert_exporter": "python",
   "pygments_lexer": "ipython3",
   "version": "3.6.3"
  }
 },
 "nbformat": 4,
 "nbformat_minor": 2
}
